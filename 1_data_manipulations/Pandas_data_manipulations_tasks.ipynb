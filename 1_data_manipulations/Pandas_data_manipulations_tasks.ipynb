{
 "cells": [
  {
   "cell_type": "markdown",
   "id": "6d6010da",
   "metadata": {
    "id": "6d6010da"
   },
   "source": [
    "# How to complete this assignment\n",
    "First, download [this Kaggle dataset](https://www.kaggle.com/hugomathien/soccer) and extract *sqlite* database. You may need to register at https://www.kaggle.com/ beforehand. Then complete 15 graded tasks below, the score is given in brackets. Finally submit the resulting `.ipynb` file to rs-app Auto-test.\n",
    "\n",
    "- Do not delete or rename the variables given before the inscription `#your code here`, they are needed for the correct verification.\n",
    "- Do not change the code in the last Notebook cell, it is required for the server check.\n",
    "- Your Notebook must run completely without errors to be graded! Please check everything before submission by going *Cell -> Run All*"
   ]
  },
  {
   "cell_type": "markdown",
   "id": "0dbd5f9a",
   "metadata": {
    "id": "0dbd5f9a"
   },
   "source": [
    "## Some important notes\n",
    "- If you need to **calculate the number of \"something\"** that means we expect you to assign an Integer to the given variable\n",
    "- If you need to **make a list of \"something\"** we expect you to assign a Python list with appropriate values to the given variable\n",
    "- If you need to find a **specifiс player, day of the week, team, etc.** we expect you to assign a String with the full name of the entity to the given variable (`player_name`, day of week full name, `team_name`, etc.)"
   ]
  },
  {
   "cell_type": "code",
   "execution_count": 1,
   "id": "f52b1bac",
   "metadata": {
    "executionInfo": {
     "elapsed": 323,
     "status": "ok",
     "timestamp": 1645544949064,
     "user": {
      "displayName": "Andrei Chenchik",
      "photoUrl": "https://lh3.googleusercontent.com/a-/AOh14GiTOzK-U951E-2eNk54Iht2oGPHJ_Jd6zFgGYDNIg=s64",
      "userId": "07344463641917214114"
     },
     "user_tz": -60
    },
    "id": "f52b1bac"
   },
   "outputs": [],
   "source": [
    "import sqlite3\n",
    "import pandas as pd\n",
    "import os\n",
    "\n",
    "pd.set_option('display.max_column', None)"
   ]
  },
  {
   "cell_type": "code",
   "execution_count": 2,
   "id": "zgPpqALVFL-Y",
   "metadata": {
    "colab": {
     "base_uri": "https://localhost:8080/"
    },
    "executionInfo": {
     "elapsed": 2433,
     "status": "ok",
     "timestamp": 1645544951992,
     "user": {
      "displayName": "Andrei Chenchik",
      "photoUrl": "https://lh3.googleusercontent.com/a-/AOh14GiTOzK-U951E-2eNk54Iht2oGPHJ_Jd6zFgGYDNIg=s64",
      "userId": "07344463641917214114"
     },
     "user_tz": -60
    },
    "id": "zgPpqALVFL-Y",
    "outputId": "28c09712-39b9-4d98-9750-00608679e10e"
   },
   "outputs": [],
   "source": [
    "# Mounting and extracting content\n",
    "#from google.colab import drive\n",
    "#drive.mount('/content/drive')\n",
    "#! cp \"/content/drive/Othercomputers/My Mac mini/MachineLearning/ml-intro/1_data_manipulations/database.sqlite\" ./"
   ]
  },
  {
   "cell_type": "code",
   "execution_count": 3,
   "id": "8ebe6afd",
   "metadata": {
    "executionInfo": {
     "elapsed": 4,
     "status": "ok",
     "timestamp": 1645544951993,
     "user": {
      "displayName": "Andrei Chenchik",
      "photoUrl": "https://lh3.googleusercontent.com/a-/AOh14GiTOzK-U951E-2eNk54Iht2oGPHJ_Jd6zFgGYDNIg=s64",
      "userId": "07344463641917214114"
     },
     "user_tz": -60
    },
    "id": "8ebe6afd"
   },
   "outputs": [],
   "source": [
    "# Leave that code unchanged, it is required for the server check!\n",
    "db = sqlite3.connect(os.environ.get(\"DB_PATH\") or 'database.sqlite')"
   ]
  },
  {
   "cell_type": "code",
   "execution_count": 4,
   "id": "9860d0d0",
   "metadata": {
    "executionInfo": {
     "elapsed": 4228,
     "status": "ok",
     "timestamp": 1645544956218,
     "user": {
      "displayName": "Andrei Chenchik",
      "photoUrl": "https://lh3.googleusercontent.com/a-/AOh14GiTOzK-U951E-2eNk54Iht2oGPHJ_Jd6zFgGYDNIg=s64",
      "userId": "07344463641917214114"
     },
     "user_tz": -60
    },
    "id": "9860d0d0"
   },
   "outputs": [],
   "source": [
    "# You may load the data from SQL table directly to the Pandas dataframe as\n",
    "player_data = pd.read_sql(\"SELECT * FROM Player;\", db)\n",
    "player_attributes = pd.read_sql(\"SELECT * FROM Player_Attributes;\", db)\n",
    "league_data = pd.read_sql(\"SELECT * FROM League;\", db)\n",
    "match_data = pd.read_sql(\"SELECT * FROM Match;\", db)\n",
    "team_data = pd.read_sql(\"SELECT * FROM Team;\", db)"
   ]
  },
  {
   "cell_type": "code",
   "execution_count": 5,
   "id": "_jLHqRQ3tDVj",
   "metadata": {
    "executionInfo": {
     "elapsed": 9,
     "status": "ok",
     "timestamp": 1645544956219,
     "user": {
      "displayName": "Andrei Chenchik",
      "photoUrl": "https://lh3.googleusercontent.com/a-/AOh14GiTOzK-U951E-2eNk54Iht2oGPHJ_Jd6zFgGYDNIg=s64",
      "userId": "07344463641917214114"
     },
     "user_tz": -60
    },
    "id": "_jLHqRQ3tDVj"
   },
   "outputs": [],
   "source": [
    "player_data['birthday_year'] = pd.to_datetime(player_data.birthday).dt.year"
   ]
  },
  {
   "cell_type": "code",
   "execution_count": 6,
   "id": "7e69a7af",
   "metadata": {
    "colab": {
     "base_uri": "https://localhost:8080/",
     "height": 206
    },
    "executionInfo": {
     "elapsed": 9,
     "status": "ok",
     "timestamp": 1645544956219,
     "user": {
      "displayName": "Andrei Chenchik",
      "photoUrl": "https://lh3.googleusercontent.com/a-/AOh14GiTOzK-U951E-2eNk54Iht2oGPHJ_Jd6zFgGYDNIg=s64",
      "userId": "07344463641917214114"
     },
     "user_tz": -60
    },
    "id": "7e69a7af",
    "outputId": "5d7e5374-32ad-4614-b92c-f96f2a24f8ba"
   },
   "outputs": [
    {
     "data": {
      "text/html": [
       "<div>\n",
       "<style scoped>\n",
       "    .dataframe tbody tr th:only-of-type {\n",
       "        vertical-align: middle;\n",
       "    }\n",
       "\n",
       "    .dataframe tbody tr th {\n",
       "        vertical-align: top;\n",
       "    }\n",
       "\n",
       "    .dataframe thead th {\n",
       "        text-align: right;\n",
       "    }\n",
       "</style>\n",
       "<table border=\"1\" class=\"dataframe\">\n",
       "  <thead>\n",
       "    <tr style=\"text-align: right;\">\n",
       "      <th></th>\n",
       "      <th>id</th>\n",
       "      <th>player_api_id</th>\n",
       "      <th>player_name</th>\n",
       "      <th>player_fifa_api_id</th>\n",
       "      <th>birthday</th>\n",
       "      <th>height</th>\n",
       "      <th>weight</th>\n",
       "      <th>birthday_year</th>\n",
       "    </tr>\n",
       "  </thead>\n",
       "  <tbody>\n",
       "    <tr>\n",
       "      <th>0</th>\n",
       "      <td>1</td>\n",
       "      <td>505942</td>\n",
       "      <td>Aaron Appindangoye</td>\n",
       "      <td>218353</td>\n",
       "      <td>1992-02-29 00:00:00</td>\n",
       "      <td>182.88</td>\n",
       "      <td>187</td>\n",
       "      <td>1992</td>\n",
       "    </tr>\n",
       "    <tr>\n",
       "      <th>1</th>\n",
       "      <td>2</td>\n",
       "      <td>155782</td>\n",
       "      <td>Aaron Cresswell</td>\n",
       "      <td>189615</td>\n",
       "      <td>1989-12-15 00:00:00</td>\n",
       "      <td>170.18</td>\n",
       "      <td>146</td>\n",
       "      <td>1989</td>\n",
       "    </tr>\n",
       "    <tr>\n",
       "      <th>2</th>\n",
       "      <td>3</td>\n",
       "      <td>162549</td>\n",
       "      <td>Aaron Doran</td>\n",
       "      <td>186170</td>\n",
       "      <td>1991-05-13 00:00:00</td>\n",
       "      <td>170.18</td>\n",
       "      <td>163</td>\n",
       "      <td>1991</td>\n",
       "    </tr>\n",
       "    <tr>\n",
       "      <th>3</th>\n",
       "      <td>4</td>\n",
       "      <td>30572</td>\n",
       "      <td>Aaron Galindo</td>\n",
       "      <td>140161</td>\n",
       "      <td>1982-05-08 00:00:00</td>\n",
       "      <td>182.88</td>\n",
       "      <td>198</td>\n",
       "      <td>1982</td>\n",
       "    </tr>\n",
       "    <tr>\n",
       "      <th>4</th>\n",
       "      <td>5</td>\n",
       "      <td>23780</td>\n",
       "      <td>Aaron Hughes</td>\n",
       "      <td>17725</td>\n",
       "      <td>1979-11-08 00:00:00</td>\n",
       "      <td>182.88</td>\n",
       "      <td>154</td>\n",
       "      <td>1979</td>\n",
       "    </tr>\n",
       "  </tbody>\n",
       "</table>\n",
       "</div>"
      ],
      "text/plain": [
       "   id  player_api_id         player_name  player_fifa_api_id  \\\n",
       "0   1         505942  Aaron Appindangoye              218353   \n",
       "1   2         155782     Aaron Cresswell              189615   \n",
       "2   3         162549         Aaron Doran              186170   \n",
       "3   4          30572       Aaron Galindo              140161   \n",
       "4   5          23780        Aaron Hughes               17725   \n",
       "\n",
       "              birthday  height  weight  birthday_year  \n",
       "0  1992-02-29 00:00:00  182.88     187           1992  \n",
       "1  1989-12-15 00:00:00  170.18     146           1989  \n",
       "2  1991-05-13 00:00:00  170.18     163           1991  \n",
       "3  1982-05-08 00:00:00  182.88     198           1982  \n",
       "4  1979-11-08 00:00:00  182.88     154           1979  "
      ]
     },
     "execution_count": 6,
     "metadata": {},
     "output_type": "execute_result"
    }
   ],
   "source": [
    "player_data.head()"
   ]
  },
  {
   "cell_type": "markdown",
   "id": "f8b23f3a",
   "metadata": {
    "id": "f8b23f3a"
   },
   "source": [
    "**Task 1 (0.25 point).** Calculate the number of players with a height between 180 and 190 inclusive"
   ]
  },
  {
   "cell_type": "code",
   "execution_count": 23,
   "id": "7cd6f780",
   "metadata": {
    "executionInfo": {
     "elapsed": 7,
     "status": "ok",
     "timestamp": 1645544956219,
     "user": {
      "displayName": "Andrei Chenchik",
      "photoUrl": "https://lh3.googleusercontent.com/a-/AOh14GiTOzK-U951E-2eNk54Iht2oGPHJ_Jd6zFgGYDNIg=s64",
      "userId": "07344463641917214114"
     },
     "user_tz": -60
    },
    "id": "7cd6f780"
   },
   "outputs": [
    {
     "data": {
      "text/plain": [
       "5925"
      ]
     },
     "execution_count": 23,
     "metadata": {},
     "output_type": "execute_result"
    }
   ],
   "source": [
    "players_180_190 = (\n",
    "      (player_data.height <= 190) & (player_data.height >= 180)\n",
    "    ).sum()\n",
    "players_180_190"
   ]
  },
  {
   "cell_type": "markdown",
   "id": "5a39f3bc",
   "metadata": {
    "id": "5a39f3bc"
   },
   "source": [
    "**Task 2 (0.25 point).** Calculate the number of players born in 1980. <br>\n",
    "**Hint:** you may want to cast your 'birthday' column to DateTime type by [pandas.to_datetime](https://pandas.pydata.org/docs/reference/api/pandas.to_datetime.html)"
   ]
  },
  {
   "cell_type": "code",
   "execution_count": 24,
   "id": "ff21f7a2",
   "metadata": {
    "executionInfo": {
     "elapsed": 8,
     "status": "ok",
     "timestamp": 1645544956220,
     "user": {
      "displayName": "Andrei Chenchik",
      "photoUrl": "https://lh3.googleusercontent.com/a-/AOh14GiTOzK-U951E-2eNk54Iht2oGPHJ_Jd6zFgGYDNIg=s64",
      "userId": "07344463641917214114"
     },
     "user_tz": -60
    },
    "id": "ff21f7a2"
   },
   "outputs": [
    {
     "data": {
      "text/plain": [
       "434"
      ]
     },
     "execution_count": 24,
     "metadata": {},
     "output_type": "execute_result"
    }
   ],
   "source": [
    "players_1980 = (player_data.birthday_year == 1980).sum()\n",
    "players_1980"
   ]
  },
  {
   "cell_type": "markdown",
   "id": "70d1dea0",
   "metadata": {
    "id": "70d1dea0"
   },
   "source": [
    "**Task 3 (0.25 point).** Make a list of the top 10 players with the highest weight sorted in descending order. If there are several players with the same weight put them in the lexicographic order by name."
   ]
  },
  {
   "cell_type": "code",
   "execution_count": 26,
   "id": "b0dbdaf5",
   "metadata": {
    "executionInfo": {
     "elapsed": 8,
     "status": "ok",
     "timestamp": 1645544956220,
     "user": {
      "displayName": "Andrei Chenchik",
      "photoUrl": "https://lh3.googleusercontent.com/a-/AOh14GiTOzK-U951E-2eNk54Iht2oGPHJ_Jd6zFgGYDNIg=s64",
      "userId": "07344463641917214114"
     },
     "user_tz": -60
    },
    "id": "b0dbdaf5"
   },
   "outputs": [
    {
     "data": {
      "text/plain": [
       "['Kristof van Hout',\n",
       " 'Tim Wiese',\n",
       " 'Jeroen Verhoeven',\n",
       " 'Ishmael Miller',\n",
       " 'Cassio',\n",
       " 'Christopher Samba',\n",
       " 'Lars Unnerstall',\n",
       " 'Marcus Hahnemann',\n",
       " 'Abdoulaye Faye',\n",
       " 'Enoch Showunmi']"
      ]
     },
     "execution_count": 26,
     "metadata": {},
     "output_type": "execute_result"
    }
   ],
   "source": [
    "highest_players = player_data.sort_values(['weight', 'player_name'], ascending=[False, True]) \\\n",
    "    .head(10).player_name.values.tolist()\n",
    "\n",
    "highest_players"
   ]
  },
  {
   "cell_type": "markdown",
   "id": "ff30607f",
   "metadata": {
    "id": "ff30607f"
   },
   "source": [
    "**Task 4 (0.5 point).** Make a list of tuples containing years along with the number of players born in that year from 1980 up to 1990. <br>\n",
    "**Structure example**: [(1980, 123), (1981, 140) ..., (1990, 83)] -> There were born 123 players in 1980, there were born 140 players in 1981 and etc."
   ]
  },
  {
   "cell_type": "code",
   "execution_count": 27,
   "id": "9b609f1c",
   "metadata": {
    "executionInfo": {
     "elapsed": 8,
     "status": "ok",
     "timestamp": 1645544956220,
     "user": {
      "displayName": "Andrei Chenchik",
      "photoUrl": "https://lh3.googleusercontent.com/a-/AOh14GiTOzK-U951E-2eNk54Iht2oGPHJ_Jd6zFgGYDNIg=s64",
      "userId": "07344463641917214114"
     },
     "user_tz": -60
    },
    "id": "9b609f1c"
   },
   "outputs": [
    {
     "data": {
      "text/plain": [
       "[(1980, 434),\n",
       " (1981, 475),\n",
       " (1982, 487),\n",
       " (1983, 541),\n",
       " (1984, 607),\n",
       " (1985, 593),\n",
       " (1986, 710),\n",
       " (1987, 722),\n",
       " (1988, 802),\n",
       " (1989, 723),\n",
       " (1990, 696)]"
      ]
     },
     "execution_count": 27,
     "metadata": {},
     "output_type": "execute_result"
    }
   ],
   "source": [
    "years_born_players = list(\n",
    "    player_data[(player_data.birthday_year >= 1980) & (player_data.birthday_year <= 1990)]\n",
    "      .birthday_year\n",
    "      .value_counts()\n",
    "      .sort_index()\n",
    "      .items()\n",
    "    )\n",
    "\n",
    "years_born_players"
   ]
  },
  {
   "cell_type": "markdown",
   "id": "33cbd931",
   "metadata": {
    "id": "33cbd931"
   },
   "source": [
    "**Task 5 (0.5 point).** Calculate the mean and the standard deviation of the players' **height** with the name **Adriano**. <br>\n",
    "**Note:** Name is represented by the first part of `player_name`."
   ]
  },
  {
   "cell_type": "code",
   "execution_count": 28,
   "id": "614fac31",
   "metadata": {
    "executionInfo": {
     "elapsed": 7,
     "status": "ok",
     "timestamp": 1645544956220,
     "user": {
      "displayName": "Andrei Chenchik",
      "photoUrl": "https://lh3.googleusercontent.com/a-/AOh14GiTOzK-U951E-2eNk54Iht2oGPHJ_Jd6zFgGYDNIg=s64",
      "userId": "07344463641917214114"
     },
     "user_tz": -60
    },
    "id": "614fac31"
   },
   "outputs": [
    {
     "name": "stdout",
     "output_type": "stream",
     "text": [
      "adriano_mean=182.11800000000002, adriano_std=5.361479480723788\n"
     ]
    }
   ],
   "source": [
    "adriano_mean, adriano_std = (\n",
    "    player_data\n",
    "      .loc[\n",
    "        player_data.player_name.str.split(\" \").str[0] == \"Adriano\",\n",
    "        'height'\n",
    "      ]\n",
    "      .describe()[['mean','std']]\n",
    "    )\n",
    "\n",
    "print(f\"adriano_mean={adriano_mean}, adriano_std={adriano_std}\")"
   ]
  },
  {
   "cell_type": "markdown",
   "id": "8a361dfd",
   "metadata": {
    "id": "8a361dfd"
   },
   "source": [
    "**Task 6 (0.75 point).** How many players were born on each day of the week? Find the day of the week with the minimum number of players born."
   ]
  },
  {
   "cell_type": "code",
   "execution_count": 29,
   "id": "c140be4f",
   "metadata": {
    "executionInfo": {
     "elapsed": 8,
     "status": "ok",
     "timestamp": 1645544956221,
     "user": {
      "displayName": "Andrei Chenchik",
      "photoUrl": "https://lh3.googleusercontent.com/a-/AOh14GiTOzK-U951E-2eNk54Iht2oGPHJ_Jd6zFgGYDNIg=s64",
      "userId": "07344463641917214114"
     },
     "user_tz": -60
    },
    "id": "c140be4f"
   },
   "outputs": [
    {
     "data": {
      "text/plain": [
       "'Sunday'"
      ]
     },
     "execution_count": 29,
     "metadata": {},
     "output_type": "execute_result"
    }
   ],
   "source": [
    "dow_with_min_players_born = (\n",
    "      pd.to_datetime(player_data.birthday)\n",
    "        .dt.day_name()\n",
    "        .value_counts()\n",
    "        .sort_values()\n",
    "        .index[0]\n",
    "    )\n",
    "\n",
    "dow_with_min_players_born"
   ]
  },
  {
   "cell_type": "markdown",
   "id": "dc7428be",
   "metadata": {
    "id": "dc7428be"
   },
   "source": [
    "**Task 7 (0.75 point).** Find a league with the most matches in total. If there are several leagues with the same amount of matches, take the first in the lexical order."
   ]
  },
  {
   "cell_type": "code",
   "execution_count": 30,
   "id": "ff3113ac",
   "metadata": {
    "executionInfo": {
     "elapsed": 8,
     "status": "ok",
     "timestamp": 1645544956221,
     "user": {
      "displayName": "Andrei Chenchik",
      "photoUrl": "https://lh3.googleusercontent.com/a-/AOh14GiTOzK-U951E-2eNk54Iht2oGPHJ_Jd6zFgGYDNIg=s64",
      "userId": "07344463641917214114"
     },
     "user_tz": -60
    },
    "id": "ff3113ac"
   },
   "outputs": [
    {
     "data": {
      "text/plain": [
       "'England Premier League'"
      ]
     },
     "execution_count": 30,
     "metadata": {},
     "output_type": "execute_result"
    }
   ],
   "source": [
    "league_most_matches = match_data.league_id.value_counts().rename('matches').to_frame() \\\n",
    ".join(league_data.set_index('id')).sort_values(['matches', 'name'], ascending=[False, True]).iloc[0,2]\n",
    "\n",
    "league_most_matches"
   ]
  },
  {
   "cell_type": "markdown",
   "id": "97199b7d",
   "metadata": {
    "id": "97199b7d"
   },
   "source": [
    "**Task 8 (1.25 point).** Find a player who participated in the largest number of matches during the whole match history. Assign a `player_name` to the given variable"
   ]
  },
  {
   "cell_type": "code",
   "execution_count": 31,
   "id": "ec31bc69",
   "metadata": {
    "executionInfo": {
     "elapsed": 8,
     "status": "ok",
     "timestamp": 1645544956221,
     "user": {
      "displayName": "Andrei Chenchik",
      "photoUrl": "https://lh3.googleusercontent.com/a-/AOh14GiTOzK-U951E-2eNk54Iht2oGPHJ_Jd6zFgGYDNIg=s64",
      "userId": "07344463641917214114"
     },
     "user_tz": -60
    },
    "id": "ec31bc69"
   },
   "outputs": [
    {
     "data": {
      "text/plain": [
       "'Steve Mandanda'"
      ]
     },
     "execution_count": 31,
     "metadata": {},
     "output_type": "execute_result"
    }
   ],
   "source": [
    "max_matches_player = pd.merge(\n",
    "  match_data[\n",
    "    [f'home_player_{position}' for position in range(1,12)] \n",
    "    + [f'away_player_{position}' for position in range(1,12)]\n",
    "  ]\n",
    "    .stack()\n",
    "    .value_counts()\n",
    "    .rename('matches_played')\n",
    "    .head(1)\n",
    "    .to_frame(),\n",
    "  player_data,\n",
    "  left_index=True,\n",
    "  right_on='player_api_id'\n",
    ").iloc[0,3]\n",
    "\n",
    "max_matches_player"
   ]
  },
  {
   "cell_type": "markdown",
   "id": "dbc68bfe",
   "metadata": {
    "id": "dbc68bfe"
   },
   "source": [
    "**Task 9 (1.5 point).** List top-5 tuples of most correlated **player's characteristics** in the descending order of the absolute [Pearson's coefficient](https://en.wikipedia.org/wiki/Pearson_correlation_coefficient) value.\n",
    "\n",
    "**Note 1:** Players characteristics are all the columns in `Player_Attributes` table except `[id, player_fifa_api_id, player_api_id, date, preferred_foot, attacking_work_rate, defensive_work_rate]`). <br>\n",
    "**Note 2:** Exclude duplicated pairs from the list. E.g. ('gk_handling', 'gk_reflexes') and ('gk_reflexes', 'gk_handling') are duplicates, leave just one of them in the resulting list.\n",
    "\n",
    "**Hint:** You may use [dataframe.corr()](https://pandas.pydata.org/docs/reference/api/pandas.DataFrame.corr.html) for calculating pairwise Pearson correlation."
   ]
  },
  {
   "cell_type": "code",
   "execution_count": 15,
   "id": "47c1412e",
   "metadata": {
    "executionInfo": {
     "elapsed": 996,
     "status": "ok",
     "timestamp": 1645544957209,
     "user": {
      "displayName": "Andrei Chenchik",
      "photoUrl": "https://lh3.googleusercontent.com/a-/AOh14GiTOzK-U951E-2eNk54Iht2oGPHJ_Jd6zFgGYDNIg=s64",
      "userId": "07344463641917214114"
     },
     "user_tz": -60
    },
    "id": "47c1412e"
   },
   "outputs": [],
   "source": [
    "excluded_columns = ['id', 'player_fifa_api_id', 'player_api_id', 'date', 'preferred_foot', 'attacking_work_rate', 'defensive_work_rate']\n",
    "player_columns = [column for column in player_attributes.columns if column not in excluded_columns]\n",
    "\n",
    "corr = (\n",
    "    player_attributes[player_columns]\n",
    "      .corr().abs()\n",
    "      .unstack()\n",
    "      .sort_values(ascending=False)\n",
    "      .to_frame()\n",
    "      .reset_index()\n",
    "      .set_axis(['col_1', 'col_2', 'corr'], axis='columns')\n",
    ")\n",
    "\n",
    "most_correlated = (\n",
    "    corr[corr.col_1 != corr.col_2]\n",
    "      .apply(lambda x: sorted([x['col_1'], x['col_2']]) + [x['corr']], axis=1, result_type='expand')\n",
    "      .set_axis(['col_1', 'col_2', 'corr'], axis='columns')\n",
    "      .drop_duplicates()\n",
    ")\n",
    "\n",
    "top_correlated_features = list(\n",
    "    most_correlated[['col_1', 'col_2']]\n",
    "    .head(5)\n",
    "    .itertuples(index=False, name=None)\n",
    ")"
   ]
  },
  {
   "cell_type": "markdown",
   "id": "7d3d8fd3",
   "metadata": {
    "id": "7d3d8fd3"
   },
   "source": [
    "**Task 10 (2 points).** Find top-5 most similar players to **Neymar** whose names are given. The similarity is measured as [Euclidean distance](https://en.wikipedia.org/wiki/Euclidean_distance) between vectors of players' characteristics (described in the task above). Put their names in a vector in ascending order by Euclidean distance and sorted by `player_name` if the distance is the same <br>\n",
    "**Note 1:** There are many records for some players in the `Player_Attributes` table. You need to take the freshest data (characteristics with the most recent `date`). <br>\n",
    "**Note 2:** Use pure values of the characteristics even if you are aware of such preprocessing technics as normalization. <br>\n",
    "**Note 3:** Please avoid using any built-in methods for calculating the Euclidean distance between vectors, think about implementing your own."
   ]
  },
  {
   "cell_type": "code",
   "execution_count": 41,
   "id": "fac5a571",
   "metadata": {
    "executionInfo": {
     "elapsed": 496,
     "status": "ok",
     "timestamp": 1645544957698,
     "user": {
      "displayName": "Andrei Chenchik",
      "photoUrl": "https://lh3.googleusercontent.com/a-/AOh14GiTOzK-U951E-2eNk54Iht2oGPHJ_Jd6zFgGYDNIg=s64",
      "userId": "07344463641917214114"
     },
     "user_tz": -60
    },
    "id": "fac5a571"
   },
   "outputs": [
    {
     "name": "stdout",
     "output_type": "stream",
     "text": [
      "<class 'pandas.core.series.Series'>\n",
      "<class 'pandas.core.frame.DataFrame'>\n"
     ]
    },
    {
     "data": {
      "text/plain": [
       "['Paulo Dybala',\n",
       " 'Eden Hazard',\n",
       " 'Giovani dos Santos',\n",
       " 'Arjen Robben',\n",
       " 'Lionel Messi']"
      ]
     },
     "execution_count": 41,
     "metadata": {},
     "output_type": "execute_result"
    }
   ],
   "source": [
    "excluded_columns = ['id', 'player_fifa_api_id', 'player_api_id', 'date', 'preferred_foot', 'attacking_work_rate', \\\n",
    "                    'defensive_work_rate']\n",
    "player_columns = [column for column in player_attributes.columns if column not in excluded_columns]\n",
    "\n",
    "neymar_id = player_data[player_data.player_name.str.startswith(\"Neymar\")].iloc[0, 1]\n",
    "\n",
    "fresh_player_attributes = (\n",
    "  player_attributes\n",
    "    .dropna(subset=player_columns)\n",
    "    .sort_values(by='date', ascending=False)\n",
    "    .drop_duplicates(subset='player_api_id')\n",
    "    .set_index('player_api_id')\n",
    "    [player_columns]\n",
    ")\n",
    "\n",
    "neymar_attributes = fresh_player_attributes.loc[neymar_id]\n",
    "other_players_attributes = fresh_player_attributes[fresh_player_attributes.index != neymar_id]\n",
    "\n",
    "print(type(neymar_attributes))\n",
    "print(type(other_players_attributes))\n",
    "\n",
    "quad_eudist = ((other_players_attributes - neymar_attributes) ** 2).sum(axis=1)\n",
    "#print(quad_eudist)\n",
    "\n",
    "neymar_similarities = (\n",
    "  pd.merge(\n",
    "    quad_eudist\n",
    "      .rename('quad_eudist')\n",
    "      .to_frame(),\n",
    "    player_data,\n",
    "    left_index=True,\n",
    "    right_on='player_api_id'\n",
    "  )\n",
    "    .sort_values(by=['quad_eudist', 'player_name'])\n",
    "    .head(5)\n",
    "    .player_name\n",
    "    .tolist()\n",
    ")\n",
    "\n",
    "neymar_similarities"
   ]
  },
  {
   "cell_type": "markdown",
   "id": "a3a7f878",
   "metadata": {
    "id": "a3a7f878"
   },
   "source": [
    "**Task 11 (1 point).** Calculate the number of home matches played by the **Borussia Dortmund** team in **Germany 1. Bundesliga** in season **2008/2009**"
   ]
  },
  {
   "cell_type": "code",
   "execution_count": 44,
   "id": "bdf5a267",
   "metadata": {
    "executionInfo": {
     "elapsed": 6,
     "status": "ok",
     "timestamp": 1645544957699,
     "user": {
      "displayName": "Andrei Chenchik",
      "photoUrl": "https://lh3.googleusercontent.com/a-/AOh14GiTOzK-U951E-2eNk54Iht2oGPHJ_Jd6zFgGYDNIg=s64",
      "userId": "07344463641917214114"
     },
     "user_tz": -60
    },
    "id": "bdf5a267"
   },
   "outputs": [
    {
     "data": {
      "text/plain": [
       "17"
      ]
     },
     "execution_count": 44,
     "metadata": {},
     "output_type": "execute_result"
    }
   ],
   "source": [
    "borussia_id = team_data[team_data.team_long_name == 'Borussia Dortmund'].iloc[0, 1]\n",
    "bundesliga_id = league_data[league_data.name == 'Germany 1. Bundesliga'].iloc[0,0]\n",
    "\n",
    "home_matches = match_data[(match_data.league_id == bundesliga_id) & (match_data.season == '2008/2009') \\\n",
    "                          & (match_data.home_team_api_id == borussia_id)]\n",
    "\n",
    "borussia_bundesliga_2008_2009_matches = home_matches.shape[0]\n",
    "borussia_bundesliga_2008_2009_matches"
   ]
  },
  {
   "cell_type": "markdown",
   "id": "69dca9a5",
   "metadata": {
    "id": "69dca9a5"
   },
   "source": [
    "**Task 12 (1 point).** Find a team having the most matches (both home and away!) in the **Germany 1. Bundesliga** in **2008/2009** season. Return number of matches."
   ]
  },
  {
   "cell_type": "code",
   "execution_count": 45,
   "id": "9969ba5c",
   "metadata": {
    "executionInfo": {
     "elapsed": 5,
     "status": "ok",
     "timestamp": 1645544957699,
     "user": {
      "displayName": "Andrei Chenchik",
      "photoUrl": "https://lh3.googleusercontent.com/a-/AOh14GiTOzK-U951E-2eNk54Iht2oGPHJ_Jd6zFgGYDNIg=s64",
      "userId": "07344463641917214114"
     },
     "user_tz": -60
    },
    "id": "9969ba5c"
   },
   "outputs": [
    {
     "data": {
      "text/plain": [
       "34"
      ]
     },
     "execution_count": 45,
     "metadata": {},
     "output_type": "execute_result"
    }
   ],
   "source": [
    "team_most_matches_bundesliga_2008_2009 = (\n",
    "  match_data[(match_data.league_id == bundesliga_id) & (match_data.season == '2008/2009')]\n",
    "    [['home_team_api_id', 'away_team_api_id']]\n",
    "    .melt().value\n",
    "    .value_counts()\n",
    "    .iloc[0]\n",
    ")\n",
    "team_most_matches_bundesliga_2008_2009"
   ]
  },
  {
   "cell_type": "markdown",
   "id": "2f3c65aa",
   "metadata": {
    "id": "2f3c65aa"
   },
   "source": [
    "**Task 13 (1 point).** Count total number of **Arsenal** matches (both home and away!) in the **2015/2016** season which they have won. <br><br>\n",
    "**Note:** Winning a game means scoring **more** goals than an opponent."
   ]
  },
  {
   "cell_type": "code",
   "execution_count": 46,
   "id": "52456f34",
   "metadata": {
    "executionInfo": {
     "elapsed": 5,
     "status": "ok",
     "timestamp": 1645544957699,
     "user": {
      "displayName": "Andrei Chenchik",
      "photoUrl": "https://lh3.googleusercontent.com/a-/AOh14GiTOzK-U951E-2eNk54Iht2oGPHJ_Jd6zFgGYDNIg=s64",
      "userId": "07344463641917214114"
     },
     "user_tz": -60
    },
    "id": "52456f34"
   },
   "outputs": [
    {
     "data": {
      "text/plain": [
       "20"
      ]
     },
     "execution_count": 46,
     "metadata": {},
     "output_type": "execute_result"
    }
   ],
   "source": [
    "arsenal_id = team_data[team_data.team_long_name == 'Arsenal'].iloc[0, 1]\n",
    "\n",
    "arsenal_matches = (\n",
    "    match_data[((match_data.home_team_api_id == arsenal_id) | (match_data.away_team_api_id == arsenal_id)) & (match_data.season == '2015/2016')]\n",
    "      .loc[:,'home_team_api_id':'away_team_goal']\n",
    ")\n",
    "\n",
    "arsenal_matches['arsenal_score'] = arsenal_matches['home_team_goal'].where(arsenal_matches.home_team_api_id == arsenal_id, other=arsenal_matches['away_team_goal'])\n",
    "arsenal_matches['opponent_score'] = arsenal_matches['home_team_goal'].where(arsenal_matches.home_team_api_id != arsenal_id, other=arsenal_matches['away_team_goal'])\n",
    "arsenal_matches['victory'] = arsenal_matches['arsenal_score'] > arsenal_matches['opponent_score']\n",
    "\n",
    "arsenal_won_matches_2015_2016 = arsenal_matches.victory.sum()\n",
    "arsenal_won_matches_2015_2016"
   ]
  },
  {
   "cell_type": "markdown",
   "id": "d70d5b23",
   "metadata": {
    "id": "d70d5b23"
   },
   "source": [
    "**Task 14 (2 points).** Find a team with the highest win rate in the **2015/2016** season. Win rate means won matches / all matches. If there are several teams with the highest win rate return the first by name in lexical order"
   ]
  },
  {
   "cell_type": "code",
   "execution_count": 47,
   "id": "b1aa7db0",
   "metadata": {
    "executionInfo": {
     "elapsed": 6,
     "status": "ok",
     "timestamp": 1645544957699,
     "user": {
      "displayName": "Andrei Chenchik",
      "photoUrl": "https://lh3.googleusercontent.com/a-/AOh14GiTOzK-U951E-2eNk54Iht2oGPHJ_Jd6zFgGYDNIg=s64",
      "userId": "07344463641917214114"
     },
     "user_tz": -60
    },
    "id": "b1aa7db0"
   },
   "outputs": [
    {
     "data": {
      "text/plain": [
       "'SL Benfica'"
      ]
     },
     "execution_count": 47,
     "metadata": {},
     "output_type": "execute_result"
    }
   ],
   "source": [
    "season_matches = match_data[match_data.season == '2015/2016'].loc[:,'home_team_api_id':'away_team_goal']\n",
    "season_matches['home_win'] = season_matches.home_team_goal > season_matches.away_team_goal\n",
    "season_matches['away_win'] = season_matches.away_team_goal > season_matches.home_team_goal\n",
    "\n",
    "team_highest_winrate_2015_2016 = (\n",
    "  pd.merge(\n",
    "    pd.concat(\n",
    "      [\n",
    "        season_matches[['home_team_api_id', 'home_win']].set_axis(['team_id', 'victory'], axis=1),\n",
    "        season_matches[['away_team_api_id', 'away_win']].set_axis(['team_id', 'victory'], axis=1)\n",
    "      ],\n",
    "      ignore_index=True\n",
    "    )\n",
    "      .groupby('team_id')\n",
    "      .mean(),\n",
    "    team_data,\n",
    "    left_index=True,\n",
    "    right_on='team_api_id'\n",
    "  )\n",
    "    .sort_values(['victory','team_long_name'], ascending=[False, True])\n",
    "    .team_long_name\n",
    "    .iloc[0]\n",
    ")\n",
    "\n",
    "team_highest_winrate_2015_2016"
   ]
  },
  {
   "cell_type": "markdown",
   "id": "f7f3b4f5",
   "metadata": {
    "id": "f7f3b4f5"
   },
   "source": [
    "**Task 15 (2 points).** Determine the team with the maximum days' gap between matches in **England Premier League 2010/2011 season**. Return number of days in that gap. <br>\n",
    "**Note**: a *gap* means the number of days between two consecutive matches of the same team."
   ]
  },
  {
   "cell_type": "code",
   "execution_count": 48,
   "id": "a4c33e5f",
   "metadata": {
    "executionInfo": {
     "elapsed": 5,
     "status": "ok",
     "timestamp": 1645544957700,
     "user": {
      "displayName": "Andrei Chenchik",
      "photoUrl": "https://lh3.googleusercontent.com/a-/AOh14GiTOzK-U951E-2eNk54Iht2oGPHJ_Jd6zFgGYDNIg=s64",
      "userId": "07344463641917214114"
     },
     "user_tz": -60
    },
    "id": "a4c33e5f"
   },
   "outputs": [
    {
     "data": {
      "text/plain": [
       "18"
      ]
     },
     "execution_count": 48,
     "metadata": {},
     "output_type": "execute_result"
    }
   ],
   "source": [
    "england_premier_id = league_data[league_data.name == 'England Premier League'].iloc[0,0]\n",
    "\n",
    "england_premier_season_matches = (\n",
    "    match_data[(match_data.season == '2010/2011') & (match_data.league_id == england_premier_id)]\n",
    "      [['date', 'home_team_api_id', 'away_team_api_id']]\n",
    ")\n",
    "\n",
    "team_matches = (\n",
    "  pd.concat(\n",
    "    [\n",
    "      england_premier_season_matches[['date', 'home_team_api_id']].set_axis(['date', 'team_id'], axis=1),\n",
    "      england_premier_season_matches[['date', 'away_team_api_id']].set_axis(['date', 'team_id'], axis=1)\n",
    "    ],\n",
    "    ignore_index=True\n",
    "  )\n",
    "    .sort_values('date')\n",
    ")\n",
    "\n",
    "team_matches['date'] = pd.to_datetime(team_matches['date'])\n",
    "\n",
    "highest_gap_england_2010_2011 = team_matches.groupby('team_id').diff().date.max().days\n",
    "highest_gap_england_2010_2011"
   ]
  },
  {
   "cell_type": "markdown",
   "id": "acecc77f",
   "metadata": {
    "id": "acecc77f"
   },
   "source": [
    "### Warning! Do not change anything in the area below"
   ]
  },
  {
   "cell_type": "code",
   "execution_count": 22,
   "id": "94c3b9be",
   "metadata": {
    "executionInfo": {
     "elapsed": 5,
     "status": "ok",
     "timestamp": 1645544957700,
     "user": {
      "displayName": "Andrei Chenchik",
      "photoUrl": "https://lh3.googleusercontent.com/a-/AOh14GiTOzK-U951E-2eNk54Iht2oGPHJ_Jd6zFgGYDNIg=s64",
      "userId": "07344463641917214114"
     },
     "user_tz": -60
    },
    "id": "94c3b9be"
   },
   "outputs": [],
   "source": [
    "with open('student_answers.txt', 'w') as file:\n",
    "    file.write(f\"{players_180_190}\\n\")\n",
    "    file.write(f\"{players_1980}\\n\")\n",
    "    file.write(f\"{highest_players}\\n\")\n",
    "    file.write(f\"{years_born_players}\\n\")\n",
    "    file.write(f\"{round(adriano_mean, 3)} {round(adriano_std, 3)}\\n\")\n",
    "    file.write(f\"{dow_with_min_players_born}\\n\")\n",
    "    file.write(f\"{league_most_matches}\\n\")\n",
    "    file.write(f\"{max_matches_player}\\n\")\n",
    "    file.write(f\"{';'.join(['%s,%s' % tup for tup in top_correlated_features])};\\n\")\n",
    "    file.write(f\"{neymar_similarities}\\n\")\n",
    "    file.write(f\"{borussia_bundesliga_2008_2009_matches}\\n\")\n",
    "    file.write(f\"{team_most_matches_bundesliga_2008_2009}\\n\")\n",
    "    file.write(f\"{arsenal_won_matches_2015_2016}\\n\")\n",
    "    file.write(f\"{team_highest_winrate_2015_2016}\\n\")\n",
    "    file.write(f\"{highest_gap_england_2010_2011}\\n\")"
   ]
  }
 ],
 "metadata": {
  "colab": {
   "collapsed_sections": [],
   "name": "Pandas_data_manipulations_tasks.ipynb",
   "provenance": []
  },
  "kernelspec": {
   "display_name": "Python 3 (ipykernel)",
   "language": "python",
   "name": "python3"
  },
  "language_info": {
   "codemirror_mode": {
    "name": "ipython",
    "version": 3
   },
   "file_extension": ".py",
   "mimetype": "text/x-python",
   "name": "python",
   "nbconvert_exporter": "python",
   "pygments_lexer": "ipython3",
   "version": "3.9.7"
  }
 },
 "nbformat": 4,
 "nbformat_minor": 5
}
